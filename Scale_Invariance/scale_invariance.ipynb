{
 "cells": [
  {
   "cell_type": "markdown",
   "metadata": {},
   "source": [
    " Mehrad"
   ]
  },
  {
   "cell_type": "markdown",
   "metadata": {},
   "source": [
    "# Scale Invariance in Convolutional Neural Network"
   ]
  },
  {
   "cell_type": "markdown",
   "metadata": {},
   "source": [
    "# Abstract"
   ]
  },
  {
   "cell_type": "markdown",
   "metadata": {},
   "source": [
    "Convolutional Neural Networks (ConvNets) have shown excellent results on many\n",
    "visual classification tasks. Even though convolutional neural networks (CNN) has\n",
    "achieved near-human performance in various computer vision tasks, its ability to tolerate scale variations is limited [2]."
   ]
  },
  {
   "cell_type": "markdown",
   "metadata": {},
   "source": [
    "Except some certain datasets like ImageNet, which are\n",
    "carefully crafted such that objects are well-aligned at similar scales, naturally, the\n",
    "feature learning problem gets more challenging as the amount of variation in the\n",
    "data increases, as the models have to learn to be invariant to certain changes in\n",
    "appearance. Recent results on the ImageNet dataset show that given enough data,\n",
    "ConvNets can learn such invariances producing very discriminative features [1].\n",
    "But could we do more: use less parameters, less data, learn more discriminative\n",
    "features, if certain invariances were built into the learning process?"
   ]
  },
  {
   "cell_type": "markdown",
   "metadata": {},
   "source": [
    "Below, we are going to fisrt, run the LeNet5 model with MNIST dataset, then to investiate scale invariance problem in CNN models, we will define some functions to scale images then test the pre-trained model with scaled images."
   ]
  },
  {
   "cell_type": "markdown",
   "metadata": {},
   "source": [
    "# Importing Libraries"
   ]
  },
  {
   "cell_type": "code",
   "execution_count": 1,
   "metadata": {},
   "outputs": [],
   "source": [
    "from __future__ import print_function\n",
    "import argparse\n",
    "import torch\n",
    "import torch.nn as nn\n",
    "import torch.nn.functional as F\n",
    "import torch.optim as optim\n",
    "from torchvision import datasets, transforms\n",
    "from torchvision.datasets.mnist import MNIST\n",
    "from torch.autograd import Variable\n",
    "from torchsummary import summary\n",
    "import numpy as np\n",
    "import matplotlib.pyplot as plt\n",
    "from torchvision.utils import make_grid\n",
    "from torch.utils.data import DataLoader\n",
    "import math\n",
    "import seaborn as sns\n",
    "import pandas as pd\n",
    "from PIL import Image\n",
    "#from skimage.transform.radon_transform import fft\n",
    "from scipy import fftpack\n",
    "%matplotlib inline"
   ]
  },
  {
   "cell_type": "markdown",
   "metadata": {},
   "source": [
    "# Arguments"
   ]
  },
  {
   "cell_type": "code",
   "execution_count": 2,
   "metadata": {},
   "outputs": [],
   "source": [
    "args={}\n",
    "kwargs={}\n",
    "args['batch_size']=1000\n",
    "args['test_batch_size']=1000\n",
    "args['epochs']=20  # The number of Epochs is the number of times you go \n",
    "                   # through the full dataset. \n",
    "args['lr']=0.01 # Learning rate is how fast it will decend. \n",
    "args['momentum']=0.5 # SGD momentum (default: 0.5) Momentum is a moving \n",
    "                     # average of our gradients (helps to keep direction).\n",
    "\n",
    "args['seed']=1 # random seed\n",
    "args['log_interval']=40\n",
    "args['cuda']=True # False if you don't have a CUDA w/ NVIDIA GPU available.\n",
    "args['train_now']=False"
   ]
  },
  {
   "cell_type": "markdown",
   "metadata": {},
   "source": [
    "# Model Architecture\n",
    "Our model is a LeNet5 CNN model which has 3 convolutional layers as the feature extractor part and 3 fully connected layers as the classifier."
   ]
  },
  {
   "cell_type": "code",
   "execution_count": 3,
   "metadata": {},
   "outputs": [],
   "source": [
    "class LeNet5(nn.Module):          \n",
    "     \n",
    "    def __init__(self):     \n",
    "        super(LeNet5, self).__init__()\n",
    "        # Convolution (In LeNet-5, 32x32 images are given \n",
    "        # as input. Hence padding of 2 is done below)\n",
    "        self.conv1 = nn.Conv2d(in_channels=1, out_channels=6, \n",
    "                                     kernel_size=5, stride=1, padding=2)\n",
    "        self.max_pool_1 = nn.MaxPool2d(kernel_size=2, stride=2)\n",
    "        self.conv2 = nn.Conv2d(in_channels=6, out_channels=16, \n",
    "                                     kernel_size=5, stride=1, padding=2)\n",
    "        self.max_pool_2 = nn.MaxPool2d(kernel_size=2, stride=2) \n",
    "        self.conv3 = nn.Conv2d(in_channels=16, out_channels=120, \n",
    "                                     kernel_size=5, stride=1, padding=2)\n",
    "        self.fc1 = nn.Linear(7*7*120, 120)\n",
    "        # convert matrix with 16*5*5 (= 400) features to a matrix of 120 features (columns)\n",
    "        self.fc2 = nn.Linear(120, 84)       \n",
    "        # convert matrix with 120 features to a matrix of 84 features (columns)\n",
    "        self.fc3 = nn.Linear(84, 10)        \n",
    "        # convert matrix with 84 features to a matrix of 10 features (columns)\n",
    "\n",
    "            \n",
    "    def forward(self, x):\n",
    "        # convolve, then perform ReLU non-linearity\n",
    "        x = F.relu(self.conv1(x))  \n",
    "        # max-pooling with 2x2 grid \n",
    "        x = self.max_pool_1(x) \n",
    "        # Conv2 + ReLU\n",
    "        x = F.relu(self.conv2(x))\n",
    "        # max-pooling with 2x2 grid\n",
    "        x = self.max_pool_2(x)\n",
    "        # Conv3 + ReLU\n",
    "        x = F.relu(self.conv3(x))\n",
    "        x = x.view(-1, 7*7*120)\n",
    "        # FC-1, then perform ReLU non-linearity\n",
    "        x = F.relu(self.fc1(x))\n",
    "        # FC-2, then perform ReLU non-linearity\n",
    "        x = F.relu(self.fc2(x))\n",
    "        # FC-3\n",
    "        x = self.fc3(x)\n",
    "        \n",
    "        return F.log_softmax(x, dim=1)\n"
   ]
  },
  {
   "cell_type": "code",
   "execution_count": 4,
   "metadata": {},
   "outputs": [
    {
     "name": "stdout",
     "output_type": "stream",
     "text": [
      "----------------------------------------------------------------\n",
      "        Layer (type)               Output Shape         Param #\n",
      "================================================================\n",
      "            Conv2d-1            [-1, 6, 28, 28]             156\n",
      "         MaxPool2d-2            [-1, 6, 14, 14]               0\n",
      "            Conv2d-3           [-1, 16, 14, 14]           2,416\n",
      "         MaxPool2d-4             [-1, 16, 7, 7]               0\n",
      "            Conv2d-5            [-1, 120, 7, 7]          48,120\n",
      "            Linear-6                  [-1, 120]         705,720\n",
      "            Linear-7                   [-1, 84]          10,164\n",
      "            Linear-8                   [-1, 10]             850\n",
      "================================================================\n",
      "Total params: 767,426\n",
      "Trainable params: 767,426\n",
      "Non-trainable params: 0\n",
      "----------------------------------------------------------------\n",
      "Input size (MB): 0.00\n",
      "Forward/backward pass size (MB): 0.12\n",
      "Params size (MB): 2.93\n",
      "Estimated Total Size (MB): 3.05\n",
      "----------------------------------------------------------------\n"
     ]
    }
   ],
   "source": [
    "model = LeNet5()\n",
    "if args['cuda']:\n",
    "    model.cuda()\n",
    "\n",
    "summary(model, (1, 28, 28))"
   ]
  },
  {
   "cell_type": "markdown",
   "metadata": {},
   "source": [
    "# Data\n",
    "Here we import the data using Dataloader"
   ]
  },
  {
   "cell_type": "code",
   "execution_count": 5,
   "metadata": {},
   "outputs": [
    {
     "name": "stdout",
     "output_type": "stream",
     "text": [
      "/home/mehrad/Projects/AI_and_Decision_Making/CNN-Scale_Invariant\n"
     ]
    }
   ],
   "source": [
    "!pwd"
   ]
  },
  {
   "cell_type": "code",
   "execution_count": 6,
   "metadata": {},
   "outputs": [],
   "source": [
    "data_train = torch.utils.data.DataLoader(\n",
    "    datasets.MNIST('./data/MNIST', train=True, download=True,\n",
    "                   transform=transforms.Compose([\n",
    "                       transforms.ToTensor(),\n",
    "                       transforms.Normalize((0.1307,), (0.3081,))\n",
    "                        ])),\n",
    "    batch_size=args['batch_size'], shuffle=True, **kwargs)\n",
    "     \n",
    "data_test = torch.utils.data.DataLoader(\n",
    "    datasets.MNIST('./data/MNIST', train=False, transform=transforms.Compose([\n",
    "                       transforms.ToTensor(),\n",
    "                       transforms.Normalize((0.1307,), (0.3081,))\n",
    "                   ])),\n",
    "    batch_size=args['test_batch_size'], shuffle=False, **kwargs)\n"
   ]
  },
  {
   "cell_type": "markdown",
   "metadata": {},
   "source": [
    "# DefiningTrain and Test "
   ]
  },
  {
   "cell_type": "code",
   "execution_count": 7,
   "metadata": {},
   "outputs": [],
   "source": [
    "def train(epoch):\n",
    "    model.train()\n",
    "    for batch_idx, (data, target) in enumerate(data_train):\n",
    "        if args['cuda']:\n",
    "            data, target = data.cuda(), target.cuda()\n",
    "        #Variables in Pytorch are differenciable. \n",
    "        data, target = Variable(data), Variable(target)\n",
    "        #This will zero out the gradients for this batch. \n",
    "        optimizer.zero_grad()\n",
    "        output = model(data)\n",
    "        # Calculate the loss The negative log likelihood loss. \n",
    "        # It is useful to train a classification problem with C classes.\n",
    "        loss = F.nll_loss(output, target)\n",
    "        #dloss/dx for every Variable \n",
    "        loss.backward()\n",
    "        #to do a one-step update on our parameter.\n",
    "        optimizer.step()\n",
    "        #Print out the loss periodically. \n",
    "        if batch_idx % args['log_interval'] == 0:\n",
    "            print('Train Epoch: {} [{}/{} ({:.0f}%)]\\tLoss: {:.6f}'.format(\n",
    "                epoch, batch_idx * len(data), len(data_train.dataset),\n",
    "                100. * batch_idx / len(data_train), loss.data))\n",
    "\n",
    "def test():\n",
    "    model.eval()\n",
    "    test_loss = 0\n",
    "    correct = 0\n",
    "    for data, target in data_test:\n",
    "        if args['cuda']:\n",
    "            data, target = data.cuda(), target.cuda()\n",
    "        with torch.no_grad(): # volatile was removed and now \n",
    "            # has no effect. Use `with torch.no_grad():` instead.\n",
    "            data= Variable(data)\n",
    "        target = Variable(target)\n",
    "        output = model(data)\n",
    "        # sum up batch loss # size_average and reduce args will \n",
    "        # be deprecated, please use reduction='sum' instead.\n",
    "        test_loss += F.nll_loss(output, target, reduction='sum').data \n",
    "        # get the index of the max log-probability\n",
    "        pred = output.data.max(1, keepdim=True)[1] \n",
    "        correct += pred.eq(target.data.view_as(pred)).long().cpu().sum()\n",
    "\n",
    "    test_loss /= len(data_test.dataset)\n",
    "    print('\\nTest set: Average loss: {:.4f}, Accuracy: {}/{} ({:.0f}%)\\n'.format(\n",
    "        test_loss, correct, len(data_test.dataset),\n",
    "        100. * correct / len(data_test.dataset)))"
   ]
  },
  {
   "cell_type": "markdown",
   "metadata": {},
   "source": [
    "# Oprimizer and Loss Function"
   ]
  },
  {
   "cell_type": "code",
   "execution_count": 8,
   "metadata": {},
   "outputs": [],
   "source": [
    "criterion = nn.CrossEntropyLoss()\n",
    "optimizer = optim.Adam(model.parameters(), lr=2e-3)"
   ]
  },
  {
   "cell_type": "markdown",
   "metadata": {},
   "source": [
    "# Train and Test LeNet5 on MNIST data set"
   ]
  },
  {
   "cell_type": "code",
   "execution_count": 9,
   "metadata": {},
   "outputs": [
    {
     "name": "stdout",
     "output_type": "stream",
     "text": [
      "/home/mehrad/Projects/AI_and_Decision_Making/CNN-Scale_Invariant\n"
     ]
    }
   ],
   "source": [
    "!pwd"
   ]
  },
  {
   "cell_type": "code",
   "execution_count": 10,
   "metadata": {},
   "outputs": [
    {
     "name": "stdout",
     "output_type": "stream",
     "text": [
      "Train Epoch: 1 [0/60000 (0%)]\tLoss: 2.303134\n",
      "Train Epoch: 1 [40000/60000 (67%)]\tLoss: 0.173014\n",
      "\n",
      "Test set: Average loss: 0.1172, Accuracy: 9624/10000 (96%)\n",
      "\n",
      "Train Epoch: 2 [0/60000 (0%)]\tLoss: 0.093408\n",
      "Train Epoch: 2 [40000/60000 (67%)]\tLoss: 0.072655\n",
      "\n",
      "Test set: Average loss: 0.0550, Accuracy: 9825/10000 (98%)\n",
      "\n",
      "Train Epoch: 3 [0/60000 (0%)]\tLoss: 0.064287\n",
      "Train Epoch: 3 [40000/60000 (67%)]\tLoss: 0.041113\n",
      "\n",
      "Test set: Average loss: 0.0454, Accuracy: 9852/10000 (98%)\n",
      "\n",
      "Train Epoch: 4 [0/60000 (0%)]\tLoss: 0.052396\n",
      "Train Epoch: 4 [40000/60000 (67%)]\tLoss: 0.043145\n",
      "\n",
      "Test set: Average loss: 0.0451, Accuracy: 9863/10000 (98%)\n",
      "\n",
      "Train Epoch: 5 [0/60000 (0%)]\tLoss: 0.079682\n",
      "Train Epoch: 5 [40000/60000 (67%)]\tLoss: 0.020314\n",
      "\n",
      "Test set: Average loss: 0.0317, Accuracy: 9905/10000 (99%)\n",
      "\n",
      "Train Epoch: 6 [0/60000 (0%)]\tLoss: 0.016700\n",
      "Train Epoch: 6 [40000/60000 (67%)]\tLoss: 0.034693\n",
      "\n",
      "Test set: Average loss: 0.0361, Accuracy: 9884/10000 (98%)\n",
      "\n",
      "Train Epoch: 7 [0/60000 (0%)]\tLoss: 0.025204\n",
      "Train Epoch: 7 [40000/60000 (67%)]\tLoss: 0.031583\n",
      "\n",
      "Test set: Average loss: 0.0305, Accuracy: 9898/10000 (98%)\n",
      "\n",
      "Train Epoch: 8 [0/60000 (0%)]\tLoss: 0.012817\n",
      "Train Epoch: 8 [40000/60000 (67%)]\tLoss: 0.017219\n",
      "\n",
      "Test set: Average loss: 0.0280, Accuracy: 9911/10000 (99%)\n",
      "\n",
      "Train Epoch: 9 [0/60000 (0%)]\tLoss: 0.009654\n",
      "Train Epoch: 9 [40000/60000 (67%)]\tLoss: 0.011944\n",
      "\n",
      "Test set: Average loss: 0.0311, Accuracy: 9903/10000 (99%)\n",
      "\n",
      "Train Epoch: 10 [0/60000 (0%)]\tLoss: 0.014035\n",
      "Train Epoch: 10 [40000/60000 (67%)]\tLoss: 0.006291\n",
      "\n",
      "Test set: Average loss: 0.0322, Accuracy: 9912/10000 (99%)\n",
      "\n"
     ]
    }
   ],
   "source": [
    "args['train_now']=True\n",
    "args['epochs']=10\n",
    "if args['train_now']:\n",
    "    for epoch in range (1, args['epochs']+1):\n",
    "        train(epoch)\n",
    "        test()\n",
    "    torch.save(model.state_dict(),'./model/lenet5_MNIST.pytrh' )\n",
    "else:\n",
    "    if args['cuda']:\n",
    "        device = torch.device(\"cuda\")\n",
    "        model.load_state_dict(torch.load('./model/lenet5_MNIST.pytrh'))\n",
    "        model.to(device)\n",
    "    else:\n",
    "        model.load_state_dict(torch.load('./model/lenet5_MNIST.pytrh'))\n",
    "    model.eval()"
   ]
  },
  {
   "cell_type": "markdown",
   "metadata": {},
   "source": [
    "# Training and Test Results\n",
    "As we can see, after 10 epochs, results are as below:\n",
    "\n",
    "Trainig Loss: 0.013218\n",
    "\n",
    "Test set Average loss: 0.0286\n",
    "\n",
    "Accuracy: 99%"
   ]
  },
  {
   "cell_type": "code",
   "execution_count": 11,
   "metadata": {},
   "outputs": [
    {
     "name": "stdout",
     "output_type": "stream",
     "text": [
      "Predicted Class:  7\n"
     ]
    },
    {
     "data": {
      "text/plain": [
       "<matplotlib.image.AxesImage at 0x7f35f9fb4c18>"
      ]
     },
     "execution_count": 11,
     "metadata": {},
     "output_type": "execute_result"
    },
    {
     "data": {
      "image/png": "[encoded data removed]",
      "text/plain": [
       "<Figure size 432x288 with 1 Axes>"
      ]
     },
     "metadata": {
      "needs_background": "light"
     },
     "output_type": "display_data"
    }
   ],
   "source": [
    "examples = enumerate(data_test)\n",
    "batch_idx, (example_data, example_targets) = next(examples)\n",
    "print(\"Predicted Class: \", \n",
    "      np.argmax(model.forward(example_data[0].unsqueeze_(0).cuda()).cpu().detach().numpy()))\n",
    "\n",
    "plt.imshow(example_data[0].cuda().cpu().detach().numpy()[0], cmap='gray')\n",
    "# transforms.functional.to_pil_image(example_data[0])"
   ]
  },
  {
   "cell_type": "markdown",
   "metadata": {},
   "source": [
    "# Scale Invariance "
   ]
  },
  {
   "cell_type": "markdown",
   "metadata": {},
   "source": [
    "So far, we just trained the MNIST data set using LeNet 5  model. Since now on, we are going to heads up to the goal of this assignment which is investigating scale invariance problem in CNN models, specifically LeNet 5 model."
   ]
  },
  {
   "cell_type": "markdown",
   "metadata": {},
   "source": [
    "In order to work on this problem, firstly, we define a scaling function which can resize and scale images of the MNIST data set."
   ]
  },
  {
   "cell_type": "markdown",
   "metadata": {},
   "source": [
    "# Custom Scaling Function\n",
    "Here the Customscaling function is defined. Using this function, we can scale the images up/down to certain values."
   ]
  },
  {
   "cell_type": "code",
   "execution_count": 12,
   "metadata": {},
   "outputs": [],
   "source": [
    "class CustomScaling(object):\n",
    "    \"\"\"Rotate image by a fixed angle which is ready for tranform.Compose()\n",
    "    \"\"\"\n",
    "\n",
    "    def __init__(self, scale, angle=0, translate=[0,0], shear=0):\n",
    "        self.scale = scale\n",
    "        self.angle = angle\n",
    "        self.translate = translate\n",
    "        self.shear = shear\n",
    "\n",
    "    def __call__(self, img):\n",
    "        \n",
    "        return transforms.ToTensor()(\n",
    "            transforms.functional.affine(\n",
    "                transforms.ToPILImage()(img), \n",
    "                self.angle, self.translate, self.scale, self.shear))"
   ]
  },
  {
   "cell_type": "code",
   "execution_count": 13,
   "metadata": {},
   "outputs": [],
   "source": [
    "def test_scaled():\n",
    "    model.eval()\n",
    "    test_loss = 0\n",
    "    correct = 0\n",
    "    for data, target in test_loader:\n",
    "        if args['cuda']:\n",
    "            data, target = data.cuda(), target.cuda()\n",
    "        with torch.no_grad(): # volatile was removed and now \n",
    "            # has no effect. Use `with torch.no_grad():` instead.\n",
    "            data= Variable(data)\n",
    "        target = Variable(target)\n",
    "        output = model(data)\n",
    "        # sum up batch loss # size_average and reduce args will \n",
    "        # be deprecated, please use reduction='sum' instead.\n",
    "        test_loss += F.nll_loss(output, target, reduction='sum').data \n",
    "        # get the index of the max log-probability\n",
    "        pred = output.data.max(1, keepdim=True)[1] \n",
    "        correct += pred.eq(target.data.view_as(pred)).long().cpu().sum()\n",
    "\n",
    "    test_loss /= len(test_loader.dataset)\n",
    "    print('\\nTest set: Average loss: {:.4f}, Accuracy: {}/{} ({:.0f}%)\\n'.format(\n",
    "        test_loss, correct, len(test_loader.dataset),\n",
    "        100. * correct / len(test_loader.dataset)))\n",
    "    return test_loss"
   ]
  },
  {
   "cell_type": "code",
   "execution_count": 14,
   "metadata": {},
   "outputs": [],
   "source": [
    "# args['train_now']=False\n",
    "# args['epochs']=10\n",
    "# if args['train_now']:\n",
    "#     for epoch in range (1, args['epochs']+1):\n",
    "#         train(epoch)\n",
    "#         test()\n",
    "#     torch.save(model.state_dict(),'./model/lenet5_MNIST.pytrh' )\n",
    "# else:\n",
    "#     if args['cuda']:\n",
    "#         device = torch.device(\"cuda\")\n",
    "#         model.load_state_dict(torch.load('./model/lenet5_MNIST.pytrh'))\n",
    "#         model.to(device)\n",
    "#     else:\n",
    "#         model.load_state_dict(torch.load('./model/lenet5_MNIST.pytrh'))\n",
    "#     model_scaled.eval()"
   ]
  },
  {
   "cell_type": "markdown",
   "metadata": {},
   "source": [
    "# Results\n",
    "### Down Scaling\n",
    "Here we define a loop to see the test results of applying Down scaled images on the pre-trained LeNet5 model with original MNIST data set."
   ]
  },
  {
   "cell_type": "code",
   "execution_count": 15,
   "metadata": {},
   "outputs": [
    {
     "name": "stdout",
     "output_type": "stream",
     "text": [
      "\n",
      "Test set: Average loss: 2.6558, Accuracy: 526/10000 (5%)\n",
      "\n",
      "Test for scale = 0.1\n",
      "\n",
      "Test set: Average loss: 3.5879, Accuracy: 616/10000 (6%)\n",
      "\n",
      "Test for scale = 0.2\n",
      "\n",
      "Test set: Average loss: 3.3973, Accuracy: 1752/10000 (17%)\n",
      "\n",
      "Test for scale = 0.3\n",
      "\n",
      "Test set: Average loss: 2.9798, Accuracy: 2986/10000 (29%)\n",
      "\n",
      "Test for scale = 0.4\n",
      "\n",
      "Test set: Average loss: 1.6113, Accuracy: 5388/10000 (53%)\n",
      "\n",
      "Test for scale = 0.5\n",
      "\n",
      "Test set: Average loss: 0.7342, Accuracy: 7742/10000 (77%)\n",
      "\n",
      "Test for scale = 0.6\n",
      "\n",
      "Test set: Average loss: 0.2708, Accuracy: 9091/10000 (90%)\n",
      "\n",
      "Test for scale = 0.7\n",
      "\n",
      "Test set: Average loss: 0.1120, Accuracy: 9643/10000 (96%)\n",
      "\n",
      "Test for scale = 0.8\n",
      "\n",
      "Test set: Average loss: 0.0718, Accuracy: 9800/10000 (98%)\n",
      "\n",
      "Test for scale = 0.9\n"
     ]
    }
   ],
   "source": [
    "t_loss_down=[]\n",
    "for scale in range  (1,10):\n",
    "    test_loader = torch.utils.data.DataLoader(\n",
    "        datasets.MNIST('./data/MNIST', train=False, transform=transforms.Compose([\n",
    "                           transforms.ToTensor(),\n",
    "                           CustomScaling(scale/10),\n",
    "                           transforms.Normalize((0.1307,), (0.3081,))\n",
    "                       ])),\n",
    "        batch_size=args['test_batch_size'], shuffle=False, **kwargs)\n",
    "    loss_down = test_scaled()\n",
    "    t_loss_down.append(loss_down)\n",
    "    print ('Test for scale =',scale/10)"
   ]
  },
  {
   "cell_type": "code",
   "execution_count": null,
   "metadata": {},
   "outputs": [],
   "source": [
    "\n"
   ]
  },
  {
   "cell_type": "code",
   "execution_count": 17,
   "metadata": {},
   "outputs": [
    {
     "data": {
      "image/png": "[encoded data removed]",
      "text/plain": [
       "<Figure size 864x288 with 1 Axes>"
      ]
     },
     "metadata": {
      "needs_background": "light"
     },
     "output_type": "display_data"
    }
   ],
   "source": [
    "div10 = lambda x:str(x/10)\n",
    "_len=len(t_loss_down)\n",
    "rangeofnum = list(map(div10, list(range(1,_len))))\n",
    "plt.figure(figsize=(12, 4))\n",
    "plt.plot(t_loss_down)\n",
    "plt.xlabel('Iteration')\n",
    "plt.ylabel('loss')\n",
    "plt.title('Test Loss for down scaled images');\n",
    "plt.savefig('./results/down-sampling')\n",
    "plt.xticks(range(_len), rangeofnum, rotation='vertical')\n",
    "plt.show()"
   ]
  },
  {
   "cell_type": "markdown",
   "metadata": {},
   "source": [
    "### UP Scaling\n",
    "\n",
    "Here we define a loop to see the test results of applying up scaled images on the pre-trained LeNet5 model with original MNIST data set."
   ]
  },
  {
   "cell_type": "code",
   "execution_count": 19,
   "metadata": {},
   "outputs": [
    {
     "name": "stdout",
     "output_type": "stream",
     "text": [
      "\n",
      "Test set: Average loss: 0.0449, Accuracy: 9870/10000 (98%)\n",
      "\n",
      "Test for scale = 1.1\n",
      "\n",
      "Test set: Average loss: 0.0641, Accuracy: 9833/10000 (98%)\n",
      "\n",
      "Test for scale = 1.2\n",
      "\n",
      "Test set: Average loss: 0.1583, Accuracy: 9659/10000 (96%)\n",
      "\n",
      "Test for scale = 1.3\n",
      "\n",
      "Test set: Average loss: 0.3662, Accuracy: 9328/10000 (93%)\n",
      "\n",
      "Test for scale = 1.4\n",
      "\n",
      "Test set: Average loss: 0.7465, Accuracy: 8850/10000 (88%)\n",
      "\n",
      "Test for scale = 1.5\n",
      "\n",
      "Test set: Average loss: 1.3189, Accuracy: 8047/10000 (80%)\n",
      "\n",
      "Test for scale = 1.6\n",
      "\n",
      "Test set: Average loss: 2.0229, Accuracy: 7229/10000 (72%)\n",
      "\n",
      "Test for scale = 1.7\n",
      "\n",
      "Test set: Average loss: 2.7907, Accuracy: 6292/10000 (62%)\n",
      "\n",
      "Test for scale = 1.8\n",
      "\n",
      "Test set: Average loss: 3.4815, Accuracy: 5585/10000 (55%)\n",
      "\n",
      "Test for scale = 1.9\n"
     ]
    }
   ],
   "source": [
    "t_loss_up=[]\n",
    "for scale in range  (11,20):\n",
    "    test_loader = torch.utils.data.DataLoader(\n",
    "        datasets.MNIST('./data/MNIST', train=False, transform=transforms.Compose([\n",
    "                           transforms.ToTensor(),\n",
    "                           CustomScaling(scale/10),\n",
    "                           transforms.Normalize((0.1307,), (0.3081,))\n",
    "                       ])),\n",
    "        batch_size=args['test_batch_size'], shuffle=False, **kwargs)\n",
    "    loss_up = test_scaled()\n",
    "    t_loss_up.append(loss_up)\n",
    "    print('Test for scale =',scale/10)"
   ]
  },
  {
   "cell_type": "code",
   "execution_count": 48,
   "metadata": {},
   "outputs": [
    {
     "data": {
      "image/png": "[encoded data removed]",
      "text/plain": [
       "<Figure size 864x288 with 1 Axes>"
      ]
     },
     "metadata": {
      "needs_background": "light"
     },
     "output_type": "display_data"
    }
   ],
   "source": [
    "div10 = lambda x:str(x/10+1)\n",
    "_len=len(t_loss_down)\n",
    "rangeofnum = list(map(div10, list(range(1,_len))))\n",
    "plt.figure(figsize=(12, 4))\n",
    "plt.plot(t_loss_up)\n",
    "plt.xlabel('Iteration')\n",
    "plt.ylabel('loss')\n",
    "plt.title('Test Loss for up-scaled images')\n",
    "plt.savefig('./results/up-sampling')\n",
    "plt.xticks(range(_len), rangeofnum, rotation='vertical')\n",
    "plt.show()"
   ]
  },
  {
   "cell_type": "markdown",
   "metadata": {},
   "source": [
    "# Concolusion\n",
    "\n",
    "As it is presented above for Down-scaling case there is an acceptable value for loss (lower than 1) when we downscale down to 60% and for the Up-scaling case we can acquire the same loss (lower than 1) when we scale up to 160% of the original image,\n",
    "\n",
    "To sum up, CNN models are not generaly Scale-Invariance, although as it is represented above, there are some ranges that we can get an acceptable result."
   ]
  },
  {
   "cell_type": "code",
   "execution_count": null,
   "metadata": {},
   "outputs": [],
   "source": []
  },
  {
   "cell_type": "markdown",
   "metadata": {},
   "source": [
    "# Reference"
   ]
  },
  {
   "cell_type": "markdown",
   "metadata": {},
   "source": [
    "Xu, Y., Xiao, T., Zhang, J., Yang, K., & Zhang, Z. (2014). Scale-invariant convolutional neural networks. arXiv preprint arXiv:1411.6369.\n"
   ]
  },
  {
   "cell_type": "markdown",
   "metadata": {},
   "source": [
    "Kanazawa, A., Sharma, A., & Jacobs, D. (2014). Locally scale-invariant convolutional neural networks. arXiv preprint arXiv:1412.5104.\n"
   ]
  },
  {
   "cell_type": "code",
   "execution_count": null,
   "metadata": {},
   "outputs": [],
   "source": []
  },
  {
   "cell_type": "code",
   "execution_count": null,
   "metadata": {},
   "outputs": [],
   "source": []
  }
 ],
 "metadata": {
  "kernelspec": {
   "display_name": "Python 3",
   "language": "python",
   "name": "python3"
  },
  "language_info": {
   "codemirror_mode": {
    "name": "ipython",
    "version": 3
   },
   "file_extension": ".py",
   "mimetype": "text/x-python",
   "name": "python",
   "nbconvert_exporter": "python",
   "pygments_lexer": "ipython3",
   "version": "3.7.3"
  }
 },
 "nbformat": 4,
 "nbformat_minor": 2
}
